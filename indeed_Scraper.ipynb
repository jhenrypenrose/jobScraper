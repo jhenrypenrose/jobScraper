{
 "cells": [
  {
   "cell_type": "markdown",
   "metadata": {},
   "source": [
    "# Indeed scraper\n",
    "\n",
    "Notes:\n",
    "\n",
    "Using their API and this tutorial: https://medium.com/@alberto_moura/build-a-jobs-database-using-indeeds-api-8f95316be842\n",
    "\n",
    "Python Client Library - https://github.com/indeedlabs/indeed-python"
   ]
  },
  {
   "cell_type": "code",
   "execution_count": 4,
   "metadata": {},
   "outputs": [
    {
     "ename": "SyntaxError",
     "evalue": "invalid syntax (<ipython-input-4-000f3a24f3a3>, line 7)",
     "output_type": "error",
     "traceback": [
      "\u001b[0;36m  File \u001b[0;32m\"<ipython-input-4-000f3a24f3a3>\"\u001b[0;36m, line \u001b[0;32m7\u001b[0m\n\u001b[0;31m    client = IndeedClient(publisher = ************3506)\u001b[0m\n\u001b[0m                                       ^\u001b[0m\n\u001b[0;31mSyntaxError\u001b[0m\u001b[0;31m:\u001b[0m invalid syntax\n"
     ]
    }
   ],
   "source": [
    "from indeed import IndeedClient\n",
    "#import MySQL Python Library\n",
    "import pymysql\n",
    "#from database.py file import function\n",
    "from database import addToDatabase\n",
    "\n",
    "client = IndeedClient(publisher = ************3506)\n",
    "parameters = {'q' : \"analyst\",\n",
    "              'l' : \"Raleigh, NC\",\n",
    "              'sort' : \"date\",\n",
    "              'fromage' : \"5\",\n",
    "              'limit' : \"25\",\n",
    "              'filter' : \"1\",\n",
    "              'userip' : \"192.186.176.550:60409\",\n",
    "              'useragent' : \"Mozilla/5.0 (Macintosh; Intel Mac OS X 10_8_2)\"\n",
    "             }"
   ]
  },
  {
   "cell_type": "code",
   "execution_count": 1,
   "metadata": {},
   "outputs": [
    {
     "ename": "SyntaxError",
     "evalue": "invalid syntax (<ipython-input-1-0ec5710d5656>, line 7)",
     "output_type": "error",
     "traceback": [
      "\u001b[0;36m  File \u001b[0;32m\"<ipython-input-1-0ec5710d5656>\"\u001b[0;36m, line \u001b[0;32m7\u001b[0m\n\u001b[0;31m    client = IndeedClient(publisher = ************3506)\u001b[0m\n\u001b[0m                                       ^\u001b[0m\n\u001b[0;31mSyntaxError\u001b[0m\u001b[0;31m:\u001b[0m invalid syntax\n"
     ]
    }
   ],
   "source": [
    "def get_indeed(params):\n",
    "    search_results = client.search(**search_params)\n",
    "    for elm in search_results['results']:\n",
    "                \n",
    "        offer = (elm['jobtitle'], \n",
    "                 elm['formattedLocation'], \n",
    "                 elm['snippet'], \n",
    "                 elm['url'], \n",
    "                 elm['indeedApply'], \n",
    "                 elm['jobkey'], \n",
    "                 elm['date'])\n",
    "        #add offer to DB (call to our function)\n",
    "        addToDatabase(offer)"
   ]
  },
  {
   "cell_type": "code",
   "execution_count": null,
   "metadata": {},
   "outputs": [],
   "source": []
  },
  {
   "cell_type": "code",
   "execution_count": 2,
   "metadata": {},
   "outputs": [],
   "source": [
    "#the function to get those CITY, STATE names to use in our API    \n",
    "def getCityNames():\n",
    "    #get the states URL list\n",
    "    states_URL_list = getStateLinks(states_URL)\n",
    "    #loop through all state pages\n",
    "    for page in states_URL_list:\n",
    "        html = urlopen(page).read()\n",
    "        soup = BeautifulSoup(html, \"lxml\")\n",
    "        #use Bs to find the cities relevant HTML elements\n",
    "        cities_page = soup.find_all('p', attrs={'class':'city'})\n",
    "        #loop through each element to get the city URL\n",
    "        for p in cities_page:\n",
    "            links = p.findAll('a')\n",
    "            #open a txt file to store city names\n",
    "            f = open('cities','a', encoding='utf8')\n",
    "            #get each city state link\n",
    "            for a in links:\n",
    "                city_state = a['href']\n",
    "                #parse CITY, STATE names using url string\n",
    "                if city_state[:5] == '/jobs' or '%' in city_state:\n",
    "                    f.write(a.text + '\\n')\n",
    "                #parse CITY, STATE and format as needed\n",
    "                else:\n",
    "                    city_state = city_state.lstrip('/l-').replace('-', ' ').split(',')\n",
    "                    city = city_state[0]\n",
    "                    state_raw= city_state[1]\n",
    "                    state = ''\n",
    "    \n",
    "                    for char in state_raw:\n",
    "                        if char.isupper():\n",
    "                            state += char\n",
    "                    #join CITY, STATE abbreviation strings\n",
    "                    location = city + ', ' + state\n",
    "                    #write them to the file\n",
    "                    f.write(location + '\\n')\n",
    "    \n",
    "    #close file\n",
    "    f.close()"
   ]
  },
  {
   "cell_type": "code",
   "execution_count": 3,
   "metadata": {},
   "outputs": [],
   "source": [
    "def searchAllCities():\n",
    "    #city counter\n",
    "    current_city = 0\n",
    "    #open cities text file\n",
    "    with open('cities', 'r', encoding='utf8') as myfile:\n",
    "    \n",
    "        #get all cities into a list\n",
    "        locations = myfile.read().split('\\n')\n",
    "    #get total cities number\n",
    "    city_number = len(locations)\n",
    "    #loop through all cities\n",
    "    while current_city < city_number:        \n",
    "            \n",
    "        #define city search location    \n",
    "        params['l'] = locations[current_city]\n",
    "            \n",
    "        #run main search function and get offers\n",
    "        get_offers(params)\n",
    "        #update city counter\n",
    "        current_city  += 1       "
   ]
  },
  {
   "cell_type": "code",
   "execution_count": null,
   "metadata": {},
   "outputs": [],
   "source": []
  }
 ],
 "metadata": {
  "kernelspec": {
   "display_name": "Python [conda env:dmml] *",
   "language": "python",
   "name": "conda-env-dmml-py"
  },
  "language_info": {
   "codemirror_mode": {
    "name": "ipython",
    "version": 3
   },
   "file_extension": ".py",
   "mimetype": "text/x-python",
   "name": "python",
   "nbconvert_exporter": "python",
   "pygments_lexer": "ipython3",
   "version": "3.7.6"
  }
 },
 "nbformat": 4,
 "nbformat_minor": 4
}
